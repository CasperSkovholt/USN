{
 "cells": [
  {
   "cell_type": "code",
   "execution_count": 1,
   "id": "2697a6f1",
   "metadata": {},
   "outputs": [
    {
     "name": "stdout",
     "output_type": "stream",
     "text": [
      "Totale årlige kostnader for elbil: 13058.70 kr\n",
      "Totale årlige kostnader for bensinbil: 23558.70 kr\n",
      "Årlig kostnadsdifferanse (bensinbil - elbil): 10500.00 kr\n"
     ]
    }
   ],
   "source": [
    "# Antall kjørte km per år\n",
    "km_per_aar = 10000  # Anta 10 000 km per år, eller velg ut fra din typiske bilbruk\n",
    "\n",
    "# Forsikringskostnader\n",
    "forsikring_elbil = 5000  # kr per år\n",
    "forsikring_bensinbil = 7500  # kr per år\n",
    "\n",
    "# Trafikkforsikringsavgift (samme for begge biltyper)\n",
    "trafikkforsikringsavgift = 8.38 * 365  # kr per år\n",
    "\n",
    "# Drivstoffkostnader\n",
    "strømpris_per_kwh = 2.00  # kr per kWh\n",
    "forbruk_elbil = 0.2  # kWh per km\n",
    "kostnad_strøm_elbil = forbruk_elbil * strømpris_per_kwh * km_per_aar  # årlige drivstoffkostnader for elbil\n",
    "\n",
    "forbruk_bensinbil = 1.0  # kr per km\n",
    "kostnad_bensin_bensinbil = forbruk_bensinbil * km_per_aar  # årlige drivstoffkostnader for bensinbil\n",
    "\n",
    "# Bomavgifter\n",
    "bomavgift_elbil = 0.1  # kr per km\n",
    "bomavgift_bensinbil = 0.3  # kr per km\n",
    "kostnad_bom_elbil = bomavgift_elbil * km_per_aar  # årlige bomkostnader for elbil\n",
    "kostnad_bom_bensinbil = bomavgift_bensinbil * km_per_aar  # årlige bomkostnader for bensinbil\n",
    "\n",
    "# Totale kostnader for elbil\n",
    "totalkostnad_elbil = (\n",
    "    forsikring_elbil + trafikkforsikringsavgift + kostnad_strøm_elbil + kostnad_bom_elbil\n",
    ")\n",
    "\n",
    "# Totale kostnader for bensinbil\n",
    "totalkostnad_bensinbil = (\n",
    "    forsikring_bensinbil + trafikkforsikringsavgift + kostnad_bensin_bensinbil + kostnad_bom_bensinbil\n",
    ")\n",
    "\n",
    "# Kostnadsdifferanse\n",
    "kostnadsdifferanse = totalkostnad_bensinbil - totalkostnad_elbil\n",
    "\n",
    "# Presentasjon av resultatene\n",
    "print(f\"Totale årlige kostnader for elbil: {totalkostnad_elbil:.2f} kr\")\n",
    "print(f\"Totale årlige kostnader for bensinbil: {totalkostnad_bensinbil:.2f} kr\")\n",
    "print(f\"Årlig kostnadsdifferanse (bensinbil - elbil): {kostnadsdifferanse:.2f} kr\")\n"
   ]
  },
  {
   "cell_type": "code",
   "execution_count": null,
   "id": "d3d8fe67",
   "metadata": {},
   "outputs": [],
   "source": []
  }
 ],
 "metadata": {
  "kernelspec": {
   "display_name": "Python 3 (ipykernel)",
   "language": "python",
   "name": "python3"
  },
  "language_info": {
   "codemirror_mode": {
    "name": "ipython",
    "version": 3
   },
   "file_extension": ".py",
   "mimetype": "text/x-python",
   "name": "python",
   "nbconvert_exporter": "python",
   "pygments_lexer": "ipython3",
   "version": "3.11.5"
  }
 },
 "nbformat": 4,
 "nbformat_minor": 5
}
